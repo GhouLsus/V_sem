{
 "cells": [
  {
   "cell_type": "code",
   "execution_count": 2,
   "metadata": {},
   "outputs": [
    {
     "name": "stderr",
     "output_type": "stream",
     "text": [
      "/usr/lib/python3/dist-packages/scipy/__init__.py:146: UserWarning: A NumPy version >=1.17.3 and <1.25.0 is required for this version of SciPy (detected version 1.26.0\n",
      "  warnings.warn(f\"A NumPy version >={np_minversion} and <{np_maxversion}\"\n"
     ]
    }
   ],
   "source": [
    "from pyspark.sql import SparkSession\n",
    "from pyspark.ml.recommendation import ALS\n",
    "from pyspark.ml.evaluation import RegressionEvaluator\n",
    "from pyspark.ml.feature import StringIndexer\n",
    "from pyspark.sql.functions import col"
   ]
  },
  {
   "cell_type": "code",
   "execution_count": 3,
   "metadata": {},
   "outputs": [
    {
     "name": "stderr",
     "output_type": "stream",
     "text": [
      "Setting default log level to \"WARN\".\n",
      "To adjust logging level use sc.setLogLevel(newLevel). For SparkR, use setLogLevel(newLevel).\n",
      "24/08/21 10:29:42 WARN NativeCodeLoader: Unable to load native-hadoop library for your platform... using builtin-java classes where applicable\n"
     ]
    }
   ],
   "source": [
    "spark = SparkSession.builder \\\n",
    "    .appName(\"Lab 4\") \\\n",
    "    .getOrCreate()"
   ]
  },
  {
   "cell_type": "markdown",
   "metadata": {},
   "source": [
    "## Q1"
   ]
  },
  {
   "cell_type": "code",
   "execution_count": 4,
   "metadata": {},
   "outputs": [
    {
     "name": "stdout",
     "output_type": "stream",
     "text": [
      "root\n",
      " |-- helpfulness: string (nullable = true)\n",
      " |-- product_id: string (nullable = true)\n",
      " |-- profile_name: string (nullable = true)\n",
      " |-- review: string (nullable = true)\n",
      " |-- score: double (nullable = true)\n",
      " |-- summary: string (nullable = true)\n",
      " |-- time: long (nullable = true)\n",
      " |-- user_id: string (nullable = true)\n",
      "\n",
      "+-----------+----------+--------------------+--------------------+-----+--------------------+----------+--------------+\n",
      "|helpfulness|product_id|        profile_name|              review|score|             summary|      time|       user_id|\n",
      "+-----------+----------+--------------------+--------------------+-----+--------------------+----------+--------------+\n",
      "|        7/7|B003AI2VGA|Brian E. Erland \"...|Synopsis: On the ...|  3.0|\"There Is So Much...|1182729600|A141HP4LYPWMSR|\n",
      "|        4/4|B003AI2VGA|          Grady Harp|THE VIRGIN OF JUA...|  3.0|Worthwhile and Im...|1181952000|A328S9RN3U5M68|\n",
      "|       8/10|B003AI2VGA|Chrissy K. McVay ...|The scenes in thi...|  5.0|This movie needed...|1164844800|A1I7QGUDP043DG|\n",
      "|        1/1|B003AI2VGA|        golgotha.gov|THE VIRGIN OF JUA...|  3.0|distantly based o...|1197158400|A1M5405JH9THP9|\n",
      "|        1/1|B003AI2VGA|KerrLines \"&#34;M...|Informationally, ...|  3.0|\"What's going on ...|1188345600| ATXL536YX71TR|\n",
      "|        0/0|B003AI2VGA|abra \"a devoted r...|The murders in Ju...|  2.0|Pretty pointless ...|1229040000|A3QYDL5CDNYN66|\n",
      "|       3/11|B003AI2VGA| Charles R. Williams|Mexican men are m...|  1.0|This is junk, sta...|1164153600| AQJVNDW6YZFQS|\n",
      "|      64/65|B00006HAXW|   Anthony Accordino|Over the past few...|  5.0|A  Rock N Roll Hi...|1060473600| AD4CDZK7D31XP|\n",
      "|      26/26|B00006HAXW|    Joseph P. Aiello|I recvd this vide...|  5.0|A  MUST-HAVE  vid...|1041292800|A3Q4S5DFVPB70D|\n",
      "|      24/24|B00006HAXW|     \"bruce_from_la\"|Wow! When I saw t...|  5.0|If You Like DooWo...|1061164800|A2P7UB02HAVEPB|\n",
      "|      22/23|B00006HAXW|    Henrique Peirano|I have the Doo Wo...|  4.0|    I expected more.|1039564800|A2TX99AZKDK0V7|\n",
      "|      14/14|B00006HAXW|      Richard Albero|Having worked in ...|  5.0|Professional Exce...|1045526400| AFC8IKR407HSK|\n",
      "|        9/9|B00006HAXW|                 Les|The people who ha...|  5.0|Marvelous, just M...|1062979200|A1FRPGQYQTAOR1|\n",
      "|        9/9|B00006HAXW|     Joseph M. Kotow|I have all of the...|  5.0|Pittsburgh - Home...|1042502400|A1RSDE90N6RSZF|\n",
      "|        7/7|B00006HAXW|      \"fellafromnyc\"|The performance o...|  4.0|They sang in the ...|1049846400|A1OUBOGB5970AO|\n",
      "|        7/7|B00006HAXW|           S. Dorman|Get it, also get ...|  5.0|DOO WOP RECORDED ...|1047945600|A3NPHQVIY59Y0Y|\n",
      "|        7/7|B00006HAXW|                 RFP|Excellent, excell...|  5.0|ROCK RYTHM AND DO...|1038787200| AFKMBAY28XO8A|\n",
      "|        4/4|B00006HAXW|           C. Thomas|This video is awe...|  5.0|Unbelievable Best...|1177804800| A66KMXH9V7OGU|\n",
      "|        3/3|B00006HAXW|   Michael A. Martin|As I stated in my...|  5.0|Another outstandi...|1200096000| AFJ27ZV9183B8|\n",
      "|        5/6|B00006HAXW|C. W. Emblom \"Bil...|I own both the VH...|  5.0|Outstanding Wheth...|1082592000| AXMKAXC0TR9AW|\n",
      "+-----------+----------+--------------------+--------------------+-----+--------------------+----------+--------------+\n",
      "only showing top 20 rows\n",
      "\n"
     ]
    }
   ],
   "source": [
    "df = spark.read.json('./movies 1.json')\n",
    "df.printSchema()\n",
    "df.show()"
   ]
  },
  {
   "cell_type": "markdown",
   "metadata": {},
   "source": [
    "## Q3"
   ]
  },
  {
   "cell_type": "code",
   "execution_count": 5,
   "metadata": {},
   "outputs": [],
   "source": [
    "user_indexer = StringIndexer(inputCol=\"user_id\", outputCol=\"userIndex\",handleInvalid=\"keep\")\n",
    "df = user_indexer.fit(df).transform(df)\n",
    "\n",
    "\n",
    "product_indexer = StringIndexer(inputCol=\"product_id\", outputCol=\"productIndex\", )\n",
    "df = product_indexer.fit(df).transform(df)\n"
   ]
  },
  {
   "cell_type": "code",
   "execution_count": 6,
   "metadata": {},
   "outputs": [],
   "source": [
    "df = df.select(\n",
    "    col(\"userIndex\").alias(\"userId\"),\n",
    "    col(\"productIndex\").alias(\"itemId\"),\n",
    "    col(\"score\").alias(\"rating\")\n",
    ")"
   ]
  },
  {
   "cell_type": "markdown",
   "metadata": {},
   "source": [
    "## Q2"
   ]
  },
  {
   "cell_type": "code",
   "execution_count": 7,
   "metadata": {},
   "outputs": [],
   "source": [
    "(training_data, test_data) = df.randomSplit([0.6, 0.4])"
   ]
  },
  {
   "cell_type": "markdown",
   "metadata": {},
   "source": [
    "## Q3"
   ]
  },
  {
   "cell_type": "code",
   "execution_count": 8,
   "metadata": {},
   "outputs": [
    {
     "name": "stderr",
     "output_type": "stream",
     "text": [
      "24/08/21 10:29:46 WARN DAGScheduler: Broadcasting large task binary with size 1623.3 KiB\n",
      "24/08/21 10:29:46 WARN DAGScheduler: Broadcasting large task binary with size 1625.7 KiB\n",
      "24/08/21 10:29:46 WARN DAGScheduler: Broadcasting large task binary with size 1627.2 KiB\n",
      "24/08/21 10:29:46 WARN DAGScheduler: Broadcasting large task binary with size 1628.5 KiB\n",
      "24/08/21 10:29:47 WARN DAGScheduler: Broadcasting large task binary with size 1627.4 KiB\n",
      "24/08/21 10:29:47 WARN DAGScheduler: Broadcasting large task binary with size 1628.7 KiB\n",
      "24/08/21 10:29:47 WARN DAGScheduler: Broadcasting large task binary with size 1629.5 KiB\n",
      "24/08/21 10:29:47 WARN InstanceBuilder: Failed to load implementation from:dev.ludovic.netlib.blas.VectorBLAS\n",
      "24/08/21 10:29:47 WARN DAGScheduler: Broadcasting large task binary with size 1632.5 KiB\n",
      "24/08/21 10:29:47 WARN DAGScheduler: Broadcasting large task binary with size 1633.9 KiB\n",
      "24/08/21 10:29:48 WARN DAGScheduler: Broadcasting large task binary with size 1635.3 KiB\n",
      "24/08/21 10:29:48 WARN DAGScheduler: Broadcasting large task binary with size 1636.7 KiB\n",
      "24/08/21 10:29:48 WARN DAGScheduler: Broadcasting large task binary with size 1638.1 KiB\n",
      "24/08/21 10:29:48 WARN DAGScheduler: Broadcasting large task binary with size 1639.5 KiB\n",
      "24/08/21 10:29:48 WARN DAGScheduler: Broadcasting large task binary with size 1640.9 KiB\n",
      "24/08/21 10:29:48 WARN DAGScheduler: Broadcasting large task binary with size 1642.2 KiB\n",
      "24/08/21 10:29:48 WARN DAGScheduler: Broadcasting large task binary with size 1643.6 KiB\n",
      "24/08/21 10:29:48 WARN DAGScheduler: Broadcasting large task binary with size 1645.0 KiB\n",
      "24/08/21 10:29:49 WARN DAGScheduler: Broadcasting large task binary with size 1646.4 KiB\n",
      "24/08/21 10:29:49 WARN DAGScheduler: Broadcasting large task binary with size 1647.8 KiB\n",
      "24/08/21 10:29:49 WARN DAGScheduler: Broadcasting large task binary with size 1649.2 KiB\n",
      "24/08/21 10:29:49 WARN DAGScheduler: Broadcasting large task binary with size 1650.6 KiB\n",
      "24/08/21 10:29:49 WARN DAGScheduler: Broadcasting large task binary with size 1652.0 KiB\n",
      "24/08/21 10:29:49 WARN DAGScheduler: Broadcasting large task binary with size 1653.3 KiB\n",
      "24/08/21 10:29:49 WARN DAGScheduler: Broadcasting large task binary with size 1654.7 KiB\n",
      "24/08/21 10:29:49 WARN DAGScheduler: Broadcasting large task binary with size 1656.1 KiB\n",
      "24/08/21 10:29:50 WARN DAGScheduler: Broadcasting large task binary with size 1657.5 KiB\n",
      "24/08/21 10:29:50 WARN DAGScheduler: Broadcasting large task binary with size 1658.9 KiB\n",
      "24/08/21 10:29:50 WARN DAGScheduler: Broadcasting large task binary with size 1660.3 KiB\n",
      "24/08/21 10:29:50 WARN DAGScheduler: Broadcasting large task binary with size 1661.7 KiB\n",
      "24/08/21 10:29:50 WARN DAGScheduler: Broadcasting large task binary with size 1663.0 KiB\n",
      "24/08/21 10:29:50 WARN DAGScheduler: Broadcasting large task binary with size 1664.4 KiB\n",
      "24/08/21 10:29:50 WARN DAGScheduler: Broadcasting large task binary with size 1665.8 KiB\n",
      "24/08/21 10:29:50 WARN DAGScheduler: Broadcasting large task binary with size 1667.2 KiB\n",
      "24/08/21 10:29:50 WARN DAGScheduler: Broadcasting large task binary with size 1668.6 KiB\n",
      "24/08/21 10:29:51 WARN DAGScheduler: Broadcasting large task binary with size 1670.0 KiB\n",
      "24/08/21 10:29:51 WARN DAGScheduler: Broadcasting large task binary with size 1671.4 KiB\n",
      "24/08/21 10:29:51 WARN DAGScheduler: Broadcasting large task binary with size 1672.8 KiB\n",
      "24/08/21 10:29:51 WARN DAGScheduler: Broadcasting large task binary with size 1674.1 KiB\n",
      "24/08/21 10:29:51 WARN DAGScheduler: Broadcasting large task binary with size 1675.5 KiB\n",
      "24/08/21 10:29:51 WARN DAGScheduler: Broadcasting large task binary with size 1676.9 KiB\n",
      "24/08/21 10:29:51 WARN DAGScheduler: Broadcasting large task binary with size 1678.3 KiB\n",
      "24/08/21 10:29:51 WARN DAGScheduler: Broadcasting large task binary with size 1679.7 KiB\n",
      "24/08/21 10:29:52 WARN DAGScheduler: Broadcasting large task binary with size 1681.1 KiB\n",
      "24/08/21 10:29:52 WARN DAGScheduler: Broadcasting large task binary with size 1682.5 KiB\n",
      "24/08/21 10:29:52 WARN DAGScheduler: Broadcasting large task binary with size 1683.8 KiB\n",
      "24/08/21 10:29:52 WARN DAGScheduler: Broadcasting large task binary with size 1685.2 KiB\n",
      "24/08/21 10:29:52 WARN DAGScheduler: Broadcasting large task binary with size 1686.6 KiB\n",
      "24/08/21 10:29:52 WARN DAGScheduler: Broadcasting large task binary with size 1688.0 KiB\n",
      "24/08/21 10:29:52 WARN DAGScheduler: Broadcasting large task binary with size 1689.4 KiB\n",
      "24/08/21 10:29:52 WARN DAGScheduler: Broadcasting large task binary with size 1690.8 KiB\n",
      "24/08/21 10:29:52 WARN DAGScheduler: Broadcasting large task binary with size 1692.2 KiB\n",
      "24/08/21 10:29:53 WARN DAGScheduler: Broadcasting large task binary with size 1693.6 KiB\n",
      "24/08/21 10:29:53 WARN DAGScheduler: Broadcasting large task binary with size 1694.9 KiB\n",
      "24/08/21 10:29:53 WARN DAGScheduler: Broadcasting large task binary with size 1696.3 KiB\n",
      "24/08/21 10:29:53 WARN DAGScheduler: Broadcasting large task binary with size 1697.7 KiB\n",
      "24/08/21 10:29:53 WARN DAGScheduler: Broadcasting large task binary with size 1699.1 KiB\n",
      "24/08/21 10:29:53 WARN DAGScheduler: Broadcasting large task binary with size 1701.1 KiB\n",
      "24/08/21 10:29:53 WARN DAGScheduler: Broadcasting large task binary with size 1699.7 KiB\n"
     ]
    }
   ],
   "source": [
    "als = ALS(\n",
    "    maxIter=25,\n",
    "    regParam=0.01,\n",
    "    userCol=\"userId\",\n",
    "    itemCol=\"itemId\",\n",
    "    ratingCol=\"rating\",\n",
    "    coldStartStrategy=\"drop\"\n",
    ")\n",
    "model = als.fit(training_data)\n",
    "predictions = model.transform(test_data)"
   ]
  },
  {
   "cell_type": "markdown",
   "metadata": {},
   "source": [
    "## Q4"
   ]
  },
  {
   "cell_type": "code",
   "execution_count": 9,
   "metadata": {},
   "outputs": [
    {
     "name": "stderr",
     "output_type": "stream",
     "text": [
      "24/08/21 10:29:54 WARN DAGScheduler: Broadcasting large task binary with size 1607.7 KiB\n",
      "24/08/21 10:29:54 WARN DAGScheduler: Broadcasting large task binary with size 1709.1 KiB\n",
      "24/08/21 10:29:54 WARN DAGScheduler: Broadcasting large task binary with size 1707.7 KiB\n"
     ]
    },
    {
     "name": "stdout",
     "output_type": "stream",
     "text": [
      "Root Mean Squared Error (RMSE) = 3.469711533079103\n"
     ]
    },
    {
     "name": "stderr",
     "output_type": "stream",
     "text": [
      "24/08/21 10:29:54 WARN DAGScheduler: Broadcasting large task binary with size 1756.6 KiB\n"
     ]
    }
   ],
   "source": [
    "rmse_evaluator = RegressionEvaluator(\n",
    "    metricName=\"rmse\",\n",
    "    labelCol=\"rating\",\n",
    "    predictionCol=\"prediction\"\n",
    ")\n",
    "\n",
    "# Calculate RMSE\n",
    "rmse = rmse_evaluator.evaluate(predictions)\n",
    "print(f\"Root Mean Squared Error (RMSE) = {rmse}\")"
   ]
  },
  {
   "cell_type": "code",
   "execution_count": 10,
   "metadata": {},
   "outputs": [
    {
     "name": "stderr",
     "output_type": "stream",
     "text": [
      "24/08/21 10:29:54 WARN DAGScheduler: Broadcasting large task binary with size 1607.7 KiB\n",
      "24/08/21 10:29:55 WARN DAGScheduler: Broadcasting large task binary with size 1709.1 KiB\n",
      "24/08/21 10:29:55 WARN DAGScheduler: Broadcasting large task binary with size 1707.7 KiB\n"
     ]
    },
    {
     "name": "stdout",
     "output_type": "stream",
     "text": [
      "Mean Absolute Error (MAE) = 2.574794666670237\n"
     ]
    },
    {
     "name": "stderr",
     "output_type": "stream",
     "text": [
      "24/08/21 10:29:55 WARN DAGScheduler: Broadcasting large task binary with size 1756.6 KiB\n"
     ]
    }
   ],
   "source": [
    "mae_evaluator = RegressionEvaluator(\n",
    "    metricName=\"mae\",\n",
    "    labelCol=\"rating\",\n",
    "    predictionCol=\"prediction\"\n",
    ")\n",
    "\n",
    "# Calculate MAE\n",
    "mae = mae_evaluator.evaluate(predictions)\n",
    "print(f\"Mean Absolute Error (MAE) = {mae}\")"
   ]
  },
  {
   "cell_type": "code",
   "execution_count": 11,
   "metadata": {},
   "outputs": [
    {
     "name": "stderr",
     "output_type": "stream",
     "text": [
      "24/08/21 10:29:55 WARN DAGScheduler: Broadcasting large task binary with size 1608.0 KiB\n",
      "24/08/21 10:29:55 WARN DAGScheduler: Broadcasting large task binary with size 1709.1 KiB\n",
      "24/08/21 10:29:55 WARN DAGScheduler: Broadcasting large task binary with size 1707.7 KiB\n"
     ]
    },
    {
     "name": "stdout",
     "output_type": "stream",
     "text": [
      "+------+------+------+----------+\n",
      "|userId|itemId|rating|prediction|\n",
      "+------+------+------+----------+\n",
      "|3749.0|  21.0|   3.0| 2.9961803|\n",
      "| 540.0|   7.0|   5.0| 1.7783462|\n",
      "|1143.0|  85.0|   4.0| 1.3242304|\n",
      "|1339.0| 680.0|   4.0|-0.7353947|\n",
      "|1903.0|   7.0|   5.0|0.44551587|\n",
      "|4294.0|  21.0|   5.0| 4.9936337|\n",
      "|5433.0|  37.0|   5.0|0.86391574|\n",
      "|3306.0|  37.0|   5.0|0.44908813|\n",
      "|1005.0|   7.0|   1.0| 0.9986076|\n",
      "|1005.0|   7.0|   1.0| 0.9986076|\n",
      "+------+------+------+----------+\n",
      "only showing top 10 rows\n",
      "\n"
     ]
    }
   ],
   "source": [
    "predictions_with_actuals = predictions.select(\n",
    "    col(\"userId\"),\n",
    "    col(\"itemId\"),\n",
    "    col(\"rating\"),\n",
    "    col(\"prediction\")\n",
    ")\n",
    "\n",
    "# Show the first few rows of predictions with actual ratings\n",
    "predictions_with_actuals.show(10)"
   ]
  },
  {
   "cell_type": "code",
   "execution_count": null,
   "metadata": {},
   "outputs": [],
   "source": []
  }
 ],
 "metadata": {
  "kernelspec": {
   "display_name": "Python 3 (ipykernel)",
   "language": "python",
   "name": "python3"
  },
  "language_info": {
   "codemirror_mode": {
    "name": "ipython",
    "version": 3
   },
   "file_extension": ".py",
   "mimetype": "text/x-python",
   "name": "python",
   "nbconvert_exporter": "python",
   "pygments_lexer": "ipython3",
   "version": "3.10.12"
  }
 },
 "nbformat": 4,
 "nbformat_minor": 2
}
